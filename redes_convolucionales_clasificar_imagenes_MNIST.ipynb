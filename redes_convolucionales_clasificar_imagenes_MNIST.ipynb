{
 "cells": [
  {
   "cell_type": "markdown",
   "metadata": {},
   "source": [
    "## Clasificación de dígitos usando Redes Convolucionales y Keras  \n",
    "\n",
    "### 1 - El set de datos\n",
    "\n",
    "En este tutorial implementaremos una red convolucional capaz de clasificar los dígitos del 0 al 9. Para ello usaremos el set de datos [MNIST](http://yann.lecun.com/exdb/mnist/), que contiene un total de 70.000 imágenes escritas a mano por diferentes personas.\n",
    "\n",
    "![Algunos ejemplos de imágenes provenientes del set MNIST](MNIST_ejemplo.png)\n",
    "\n",
    "Al final de este tutorial tendremos claro:\n",
    "1. Cómo funciona [LeNet-5](http://yann.lecun.com/exdb/lenet/), la red convolucional usada en este tutorial\n",
    "2. Cómo implementar esta red convolucional usando la librería Keras\n",
    "3. Cómo evaluar el desempeño de la red\n",
    "\n",
    "En primer lugar, veamos cómo es LeNet-5."
   ]
  },
  {
   "cell_type": "markdown",
   "metadata": {},
   "source": [
    "## 2 - LeNet-5  \n",
    "\n",
    "Esta red es la precursora de todas las redes convolucionales usadas en la actualidad. Fue diseñada por [Yann LeCun] a finales de los años 90, con el fin de clasificar digitos (del 0 al 9) escritos a mano.  \n",
    "\n",
    "Esta red tiene como entradas imagenes de 28x28x1: 28 filas, 28 columnas y 1 solo plano de color, es decir, imagenes en escala de gris.\n",
    "\n",
    "![LeNet-5](LeNet5.png)\n",
    "\n",
    "Como se observa en la figura de arriba, la red cuenta con dos bloques de procesamiento:\n",
    "- Las *capas convolucionales* que se encargan de extraer características de las imágenes.\n",
    "- La *red neuronal*, que toma dichas características y permite clasificar la imagen en uno de los posibles 10 dígitos (del 0 al 9).\n",
    "\n",
    "Además, podemos observar las siguientes características:\n",
    "- Después de realizar convoluciones se usa siempre la función de activación *ReLU*.\n",
    "- El *max-pooling* se realiza después de las convoluciones.\n",
    "- Las *dimensiones espaciales* (número de filas y columnas) de las imágenes se reducen entre una capa y otra, mientras que la profundidad (correspondiente a las características extraídas) aumenta entre una capa y otra.\n",
    "\n",
    "Las redes convolucionales usadas en la actualidad implementan una lógica similar a la de LeNet-5."
   ]
  },
  {
   "cell_type": "markdown",
   "metadata": {},
   "source": [
    "## 3 - Implementacion en Keras\n",
    "\n",
    "#### 3.1 - Librerias requeridas\n",
    "\n",
    "En primer lugar se importa la libreria Numpy y se ajusta la semilla del generador aleatorio para garantizar la reproducibilidad del entrenamiento.Tambien importaremos la libreria Matplotlib, para poder visualizar la imagenes del set de datos :"
   ]
  },
  {
   "cell_type": "code",
   "execution_count": 1,
   "metadata": {},
   "outputs": [],
   "source": [
    "import numpy as np\n",
    "np.random.seed(2)\n",
    "\n",
    "import matplotlib.pyplot as plt\n",
    "#%matplotlib notebook\n",
    "%matplotlib inline"
   ]
  },
  {
   "cell_type": "markdown",
   "metadata": {},
   "source": [
    "A continuacion importamos las funciones Sequential, Conv2D, MaxPooling2D, Flatten, Dense y SGD de Keras:"
   ]
  },
  {
   "cell_type": "code",
   "execution_count": 2,
   "metadata": {},
   "outputs": [],
   "source": [
    "from keras.datasets import mnist\n",
    "from keras.utils import np_utils\n",
    "\n",
    "from keras.models import Sequential\n",
    "#from keras.layers.convolutional import Conv2D, MaxPooling2D\n",
    "from keras.layers import Conv2D, MaxPooling2D\n",
    "#from keras.layers.core import Flatten, Dense\n",
    "from keras.layers import Flatten, Dense\n",
    "from keras.optimizers import SGD"
   ]
  },
  {
   "cell_type": "markdown",
   "metadata": {},
   "source": [
    "#### 3.2 - Pre-procesamiento del set de datos\n",
    "La funcion *mnist* de Keras permite leer el set de datos y crear automaticamente los sets de entrenamiento y validacion. El primero de ellos tendra 60,000 imagenes (cada una de 28x28) con sus correspondientes categorias, mientras que el segundo tendra 10,000 datos:"
   ]
  },
  {
   "cell_type": "code",
   "execution_count": 3,
   "metadata": {},
   "outputs": [
    {
     "name": "stdout",
     "output_type": "stream",
     "text": [
      "(60000, 28, 28)\n",
      "(60000,)\n",
      "(10000, 28, 28)\n",
      "(10000,)\n"
     ]
    }
   ],
   "source": [
    "(x_train, y_train), (x_test, y_test) = mnist.load_data()\n",
    "print(x_train.shape)\n",
    "print(y_train.shape)\n",
    "print(x_test.shape)\n",
    "print(y_test.shape)"
   ]
  },
  {
   "cell_type": "markdown",
   "metadata": {},
   "source": [
    "Los pixeles en las imagenes (tanto de entrenamiento como de validacion) tiene valores entre 0 y 255; sin embargo, para garantizar la convergencia del entrenamiento es necesario normalizar estos valores entre 0 y 1 :"
   ]
  },
  {
   "cell_type": "code",
   "execution_count": 4,
   "metadata": {},
   "outputs": [],
   "source": [
    "x_train = x_train/255.0\n",
    "x_test = x_test/255.0"
   ]
  },
  {
   "cell_type": "markdown",
   "metadata": {},
   "source": [
    "Tambien se deben codificar *y_train* y *y_test* en el formato one-hot :"
   ]
  },
  {
   "cell_type": "code",
   "execution_count": 5,
   "metadata": {},
   "outputs": [],
   "source": [
    "nclases = 10\n",
    "y_train = np_utils.to_categorical(y_train, nclases)\n",
    "y_test = np_utils.to_categorical(y_test, nclases)"
   ]
  },
  {
   "cell_type": "markdown",
   "metadata": {},
   "source": [
    "Finalmente podemos visualizar un ejemplo de imagen dentro del dataset :"
   ]
  },
  {
   "cell_type": "code",
   "execution_count": 6,
   "metadata": {},
   "outputs": [
    {
     "data": {
      "text/plain": [
       "(-0.5, 27.5, 27.5, -0.5)"
      ]
     },
     "execution_count": 6,
     "metadata": {},
     "output_type": "execute_result"
    },
    {
     "data": {
      "image/png": "[encoded data removed]",
      "text/plain": [
       "<Figure size 432x288 with 1 Axes>"
      ]
     },
     "metadata": {
      "needs_background": "light"
     },
     "output_type": "display_data"
    }
   ],
   "source": [
    "nimagen = 100\n",
    "plt.imshow(x_train[nimagen, :].reshape(28,28), cmap='gray_r')\n",
    "plt.title('Imagen ejemplo - Categoria: ' + str(np.argmax(y_train[nimagen])))\n",
    "plt.axis('off')"
   ]
  },
  {
   "cell_type": "markdown",
   "metadata": {},
   "source": [
    "Por defecto, Keras requiere cada dato de entrada en el formato nimagenes x nfila x ncolumnas x ncanales, donde ncanales = 1 por ser imagenes en escala de gris. Se debe modificar el tamaño de *x_train* y *x_test* para cumplir con este requerimiento :"
   ]
  },
  {
   "cell_type": "code",
   "execution_count": 7,
   "metadata": {},
   "outputs": [
    {
     "name": "stdout",
     "output_type": "stream",
     "text": [
      "(60000, 28, 28, 1)\n",
      "(10000, 28, 28, 1)\n"
     ]
    }
   ],
   "source": [
    "x_train = x_train.reshape(60000,28,28,1)\n",
    "x_test = x_test.reshape(10000,28,28,1)\n",
    "\n",
    "print(x_train.shape)\n",
    "print(x_test.shape)"
   ]
  },
  {
   "cell_type": "markdown",
   "metadata": {},
   "source": [
    "### 3.3 - Creación del modelo\n",
    "\n",
    "En la siguiente tabla se resumen las características de cada capa a implementar:\n",
    "    \n",
    "| **Capa**          | **Características**                            |\n",
    "|-------------------|------------------------------------------------|\n",
    "| CONV 1            | 6 filtros, 5x5, p=0, s=1, activación: ReLU     |\n",
    "| MAX-POOLING 1     | 6 filtros, 2x2, p=0, s=2, activación: Ninguna  |\n",
    "| CONV 2            | 16 filtros, 5x5, p=0, s=1, activación: ReLU    |\n",
    "| MAX-POOLING 2     | 16 filtros, 2x2, p=0, s=2, activación: Ninguna |\n",
    "| FLATTEN           | Simplemente convierte un volumen en un vector  |\n",
    "| FULLY CONNECTED 1 | 120 neuronas, activación: ReLU                 |\n",
    "| FULLY CONNECTED 2 | 84 neuronas, activación: ReLU                  |\n",
    "| SALIDA            | 10 categorías, activación: softmax             |\n"
   ]
  },
  {
   "cell_type": "markdown",
   "metadata": {},
   "source": [
    "Creemos el contenedor del modelo usando *Sequential()*:"
   ]
  },
  {
   "cell_type": "code",
   "execution_count": 8,
   "metadata": {},
   "outputs": [],
   "source": [
    "modelo = Sequential()"
   ]
  },
  {
   "cell_type": "markdown",
   "metadata": {},
   "source": [
    "Y añadimos, de forma secuencial, la diferentes capas de la red convolucional. En partiular usamos *Conv2D* para las capas convolucionales y *MaxPooling2D* para el *max-pooling*, junto con *Flatten* y *Dense* para la etapa de clasificacion con redes neuronales y la capa de salida :"
   ]
  },
  {
   "cell_type": "code",
   "execution_count": 9,
   "metadata": {},
   "outputs": [],
   "source": [
    "# CONV 1 y MAX-POOLING 1\n",
    "modelo.add(Conv2D(filters=6, kernel_size=(5,5), activation='relu', input_shape=(28,28,1)))\n",
    "modelo.add(MaxPooling2D(pool_size=(2,2)))\n",
    "\n",
    "# CONV 2 y MAX-POOLING 2\n",
    "modelo.add(Conv2D(filters=16, kernel_size=(5,5), activation='relu'))\n",
    "modelo.add(MaxPooling2D(pool_size=(2,2)))\n",
    "\n",
    "# Aplanar, Fully Connected 1 y Fully Connected 2 y salida\n",
    "modelo.add(Flatten())\n",
    "modelo.add(Dense(120, activation='relu'))\n",
    "modelo.add(Dense(84, activation='relu'))\n",
    "modelo.add(Dense(nclases, activation='softmax'))"
   ]
  },
  {
   "cell_type": "markdown",
   "metadata": {},
   "source": [
    "### 3.4 - Compilacion del modelo\n",
    "\n",
    "En esta etapa definimos el optimizador a usar (gradiente descendente, tasa de aprendizaje = 0.1), asi como la funcion de error (entropia cruzada) y la metrica de desempeño (precision) :"
   ]
  },
  {
   "cell_type": "code",
   "execution_count": 10,
   "metadata": {},
   "outputs": [],
   "source": [
    "sgd = SGD(lr=0.1)\n",
    "modelo.compile(loss='categorical_crossentropy', optimizer=sgd, metrics=['accuracy'])"
   ]
  },
  {
   "cell_type": "markdown",
   "metadata": {},
   "source": [
    "### 3.5 - Entrenamiento\n",
    "\n",
    "Realicemos el entrenamiento usando 10 iteraciones, tasa de aprendizaje de 0.1, y un tamaño de lote (*batch_size*) de 128 :"
   ]
  },
  {
   "cell_type": "code",
   "execution_count": 11,
   "metadata": {},
   "outputs": [
    {
     "name": "stdout",
     "output_type": "stream",
     "text": [
      "Epoch 1/10\n",
      "469/469 [==============================] - 60s 127ms/step - loss: 0.3826 - accuracy: 0.8789 - val_loss: 0.1167 - val_accuracy: 0.9621\n",
      "Epoch 2/10\n",
      "469/469 [==============================] - 58s 123ms/step - loss: 0.0947 - accuracy: 0.9696 - val_loss: 0.1013 - val_accuracy: 0.9660\n",
      "Epoch 3/10\n",
      "469/469 [==============================] - 57s 122ms/step - loss: 0.0658 - accuracy: 0.9789 - val_loss: 0.0493 - val_accuracy: 0.9842\n",
      "Epoch 4/10\n",
      "469/469 [==============================] - 57s 122ms/step - loss: 0.0537 - accuracy: 0.9833 - val_loss: 0.0452 - val_accuracy: 0.9856\n",
      "Epoch 5/10\n",
      "469/469 [==============================] - 58s 123ms/step - loss: 0.0435 - accuracy: 0.9860 - val_loss: 0.0476 - val_accuracy: 0.9847\n",
      "Epoch 6/10\n",
      "469/469 [==============================] - 58s 124ms/step - loss: 0.0373 - accuracy: 0.9880 - val_loss: 0.0445 - val_accuracy: 0.9859\n",
      "Epoch 7/10\n",
      "469/469 [==============================] - 62s 131ms/step - loss: 0.0332 - accuracy: 0.9891 - val_loss: 0.0413 - val_accuracy: 0.9871\n",
      "Epoch 8/10\n",
      "469/469 [==============================] - 64s 137ms/step - loss: 0.0285 - accuracy: 0.9910 - val_loss: 0.0518 - val_accuracy: 0.9838\n",
      "Epoch 9/10\n",
      "469/469 [==============================] - 61s 130ms/step - loss: 0.0259 - accuracy: 0.9914 - val_loss: 0.0372 - val_accuracy: 0.9879\n",
      "Epoch 10/10\n",
      "469/469 [==============================] - 61s 131ms/step - loss: 0.0223 - accuracy: 0.9930 - val_loss: 0.0328 - val_accuracy: 0.9897\n"
     ]
    },
    {
     "data": {
      "text/plain": [
       "<tensorflow.python.keras.callbacks.History at 0x17624e99f08>"
      ]
     },
     "execution_count": 11,
     "metadata": {},
     "output_type": "execute_result"
    }
   ],
   "source": [
    "nepochs = 10\n",
    "tam_lote = 128\n",
    "modelo.fit(x_train, y_train, epochs=nepochs, batch_size=tam_lote, validation_data=(x_test,y_test), verbose=1)"
   ]
  },
  {
   "cell_type": "markdown",
   "metadata": {},
   "source": [
    "Vemos que en la ultima iteracion, el modelo alcanza una precision de 99.3% para el set de entrenamiento y del 98.6% para el set de validacion. Esta precision nos indica que, en promedio, de cada 100 datos, aproximadamente 1 es clasificado incorrectamente. ¡Nada mal!"
   ]
  },
  {
   "cell_type": "markdown",
   "metadata": {},
   "source": [
    "## 4 - Desempeño del modelo\n",
    "\n",
    "La precision obtenida anteriormente es una medida de desempeño global de la red convolucional, pero nos permite verificar si algunos digitos resultan mejor clasificados que otros. Para analizar en detalle este comportamiento, podemos usar la matriz de confusion :"
   ]
  },
  {
   "cell_type": "code",
   "execution_count": 12,
   "metadata": {},
   "outputs": [
    {
     "name": "stdout",
     "output_type": "stream",
     "text": [
      "WARNING:tensorflow:From <ipython-input-12-e1e0caf2745f>:3: Sequential.predict_classes (from tensorflow.python.keras.engine.sequential) is deprecated and will be removed after 2021-01-01.\n",
      "Instructions for updating:\n",
      "Please use instead:* `np.argmax(model.predict(x), axis=-1)`,   if your model does multi-class classification   (e.g. if it uses a `softmax` last-layer activation).* `(model.predict(x) > 0.5).astype(\"int32\")`,   if your model does binary classification   (e.g. if it uses a `sigmoid` last-layer activation).\n"
     ]
    },
    {
     "data": {
      "image/png": "[encoded data removed]",
      "text/plain": [
       "<Figure size 432x288 with 1 Axes>"
      ]
     },
     "metadata": {
      "needs_background": "light"
     },
     "output_type": "display_data"
    }
   ],
   "source": [
    "from matriz_confusion import graficar_matriz_de_confusion\n",
    "\n",
    "y_pred = modelo.predict_classes(x_test)\n",
    "y_ref = np.argmax(y_test, axis=1) # convertir de one-hot a la representacion numerica original\n",
    "etiquetas = ['0','1','2','3','4','5','6','7','8','9']\n",
    "graficar_matriz_de_confusion(y_ref, y_pred, etiquetas)"
   ]
  }
 ],
 "metadata": {
  "kernelspec": {
   "display_name": "Python 3",
   "language": "python",
   "name": "python3"
  },
  "language_info": {
   "codemirror_mode": {
    "name": "ipython",
    "version": 3
   },
   "file_extension": ".py",
   "mimetype": "text/x-python",
   "name": "python",
   "nbconvert_exporter": "python",
   "pygments_lexer": "ipython3",
   "version": "3.7.9"
  }
 },
 "nbformat": 4,
 "nbformat_minor": 4
}
